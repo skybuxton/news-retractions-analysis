{
 "cells": [
  {
   "cell_type": "code",
   "execution_count": 1,
   "metadata": {},
   "outputs": [
    {
     "name": "stdout",
     "output_type": "stream",
     "text": [
      "64\n",
      "58\n",
      "66\n",
      "60\n",
      "45\n",
      "62\n"
     ]
    }
   ],
   "source": [
    "# question 2\n",
    "\n",
    "# There is a rope of length N with points at interior integer coordinates (1,…,N−1).\n",
    "# At every turn, we select 2 unique interior integer coordinates uniformly at random\n",
    "# without replacement, cut the rope at those 2 coordinates, and take the longest of the\n",
    "# resulting 3 ropes as our new rope. We do this iteratively T times (as long as it is possible\n",
    "# to cut the rope at 2 unique interior coordinates) and call the length of the final resulting rope S.\n",
    "\n",
    "import random\n",
    "import numpy as np\n",
    "\n",
    "# returns length of the largest split\n",
    "def split_rope(rope_length, debug=True):\n",
    "    if rope_length < 4:\n",
    "        # we can no longer split\n",
    "        return rope_length\n",
    "    first_split  = int(random.uniform(1, rope_length-1))\n",
    "    second_split = int(random.uniform(1, rope_length-1))\n",
    "    \n",
    "    if first_split < second_split:\n",
    "        left_split  = first_split\n",
    "        right_split = second_split\n",
    "    elif first_split > second_split:\n",
    "        left_split  = second_split\n",
    "        right_split = first_split\n",
    "    else: # same point, right in the middle, try again\n",
    "        return split_rope(rope_length)\n",
    "    \n",
    "    rope1 = left_split\n",
    "    rope2 = right_split-left_split\n",
    "    rope3 = rope_length-right_split\n",
    "    largest = max(rope1, rope2, rope3)\n",
    "    \n",
    "#     print(\"Split at:     %s %s\" % (left_split, right_split))\n",
    "#     print(\"Rope lengths: %s %s %s\" % (rope1, rope2, rope3))\n",
    "#     print(\"Largest:      %s\" % largest)\n",
    "    return largest\n",
    "\n",
    "# test\n",
    "print(split_rope(100))\n",
    "print(split_rope(100))\n",
    "print(split_rope(100))\n",
    "print(split_rope(100))\n",
    "print(split_rope(100))\n",
    "print(split_rope(100))\n"
   ]
  },
  {
   "cell_type": "code",
   "execution_count": 2,
   "metadata": {},
   "outputs": [
    {
     "name": "stdout",
     "output_type": "stream",
     "text": [
      "3\n",
      "2\n",
      "7\n",
      "5\n"
     ]
    }
   ],
   "source": [
    "def split_rope_n_times(initial_length, n, debug=True):\n",
    "    final_length = initial_length\n",
    "    for i in range(1, n+1):\n",
    "#       print(\"Split %s of %s times\" % (i, n))\n",
    "        final_length = split_rope(final_length, debug=debug)\n",
    "    return final_length\n",
    "\n",
    "# test\n",
    "print(split_rope_n_times(100, 5))\n",
    "print(split_rope_n_times(100, 5))\n",
    "print(split_rope_n_times(100, 5))\n",
    "print(split_rope_n_times(100, 5))\n",
    "\n"
   ]
  },
  {
   "cell_type": "code",
   "execution_count": 7,
   "metadata": {},
   "outputs": [
    {
     "name": "stdout",
     "output_type": "stream",
     "text": [
      "N=64 T=5\n",
      "---\n",
      "Simulations: 100000\n",
      "Avg: 4.031950319503195\n",
      "---\n",
      "Simulations: 100000\n",
      "Stddev: 2.31338271055\n"
     ]
    },
    {
     "data": {
      "text/plain": [
       "2.3133827105466436"
      ]
     },
     "execution_count": 7,
     "metadata": {},
     "output_type": "execute_result"
    }
   ],
   "source": [
    "def simulate_and_average(n, t, ntimes):\n",
    "    results = []\n",
    "    ntimes = 100000\n",
    "    for i in range(1, ntimes):\n",
    "        results.append(split_rope_n_times(n,t))\n",
    "    avg = sum(results) / len(results)\n",
    "    print(\"Simulations: %s\" % ntimes)\n",
    "    print(\"Avg: %s\" % avg)\n",
    "    return avg\n",
    "\n",
    "def simulate_and_stddev(n, t, ntimes):\n",
    "    results = []\n",
    "    ntimes = 100000\n",
    "    for i in range(1, ntimes):\n",
    "        results.append(split_rope_n_times(64,5))\n",
    "    results_np = np.array(results)\n",
    "    stddev = np.std(results_np)\n",
    "    print(\"Simulations: %s\" % ntimes)\n",
    "    print(\"Stddev: %s\" % stddev)\n",
    "    return stddev\n",
    "\n",
    "# answer to q1 and q2\n",
    "n = 64\n",
    "t = 5\n",
    "ntimes = 100000\n",
    "print(\"N=%s T=%s\" % (n, t))\n",
    "print(\"---\")\n",
    "simulate_and_average(n, t, ntimes)\n",
    "print(\"---\")\n",
    "simulate_and_stddev(n, t, ntimes)\n"
   ]
  },
  {
   "cell_type": "code",
   "execution_count": 8,
   "metadata": {},
   "outputs": [
    {
     "name": "stdout",
     "output_type": "stream",
     "text": [
      "N=1024 T=10\n",
      "---\n",
      "Simulations: 100000\n",
      "Avg: 6.026680266802668\n",
      "---\n",
      "Simulations: 100000\n",
      "Stddev: 2.29007433663\n"
     ]
    },
    {
     "data": {
      "text/plain": [
       "2.2900743366285958"
      ]
     },
     "execution_count": 8,
     "metadata": {},
     "output_type": "execute_result"
    }
   ],
   "source": [
    "n = 1024\n",
    "t = 10\n",
    "ntimes = 100000\n",
    "print(\"N=%s T=%s\" % (n, t))\n",
    "print(\"---\")\n",
    "simulate_and_average(n, t, ntimes)\n",
    "print(\"---\")\n",
    "simulate_and_stddev(n, t, ntimes)\n",
    "\n"
   ]
  }
 ],
 "metadata": {
  "kernelspec": {
   "display_name": "Python 3",
   "language": "python",
   "name": "python3"
  },
  "language_info": {
   "codemirror_mode": {
    "name": "ipython",
    "version": 3
   },
   "file_extension": ".py",
   "mimetype": "text/x-python",
   "name": "python",
   "nbconvert_exporter": "python",
   "pygments_lexer": "ipython3",
   "version": "3.6.3"
  }
 },
 "nbformat": 4,
 "nbformat_minor": 2
}
